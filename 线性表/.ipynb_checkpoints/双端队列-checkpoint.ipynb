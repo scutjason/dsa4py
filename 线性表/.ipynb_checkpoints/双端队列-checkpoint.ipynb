{
 "cells": [
  {
   "cell_type": "code",
   "execution_count": null,
   "metadata": {},
   "outputs": [],
   "source": [
    "\"\"\"\n",
    "双端队列\n",
    "    可以再头部和尾部进行添加和删除元素\n",
    "\n",
    "\n",
    "用list或者链表实现\n",
    "\n",
    "Deques 是允许类似栈和队列的混合行为的数据结构。\n",
    "deque 的基本操作是 addFront，addRear，removeFront，removeRear 和 isEmpty。\n",
    "\"\"\""
   ]
  }
 ],
 "metadata": {
  "kernelspec": {
   "display_name": "Python 3",
   "language": "python",
   "name": "python3"
  },
  "language_info": {
   "codemirror_mode": {
    "name": "ipython",
    "version": 3
   },
   "file_extension": ".py",
   "mimetype": "text/x-python",
   "name": "python",
   "nbconvert_exporter": "python",
   "pygments_lexer": "ipython3",
   "version": "3.7.1"
  }
 },
 "nbformat": 4,
 "nbformat_minor": 2
}
