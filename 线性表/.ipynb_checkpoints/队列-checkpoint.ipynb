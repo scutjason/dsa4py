{
 "cells": [
  {
   "cell_type": "code",
   "execution_count": 1,
   "metadata": {},
   "outputs": [
    {
     "data": {
      "text/plain": [
       "'\\n队列：  添加新项的一端称为队尾，移除项的一端称为队首。\\n\\n先进先出\\n\\n可以用线性表或者链表实现\\n'"
      ]
     },
     "execution_count": 1,
     "metadata": {},
     "output_type": "execute_result"
    }
   ],
   "source": [
    "'''\n",
    "队列：  添加新项的一端称为队尾，移除项的一端称为队首。\n",
    "\n",
    "先进先出\n",
    "\n",
    "可以用线性表或者链表实现\n",
    "\n",
    "回文检查问题。\n",
    "队列可以帮助构建定时仿真。\n",
    "模拟使用随机数生成器来创建真实情况，并帮助我们回答“假设”类型的问题。\n",
    "\n",
    "'''"
   ]
  },
  {
   "cell_type": "code",
   "execution_count": 3,
   "metadata": {},
   "outputs": [
    {
     "name": "stdout",
     "output_type": "stream",
     "text": [
      "True\n",
      "0\n",
      "False\n",
      "1\n",
      "a\n",
      "2\n"
     ]
    }
   ],
   "source": [
    "class Queue(object):\n",
    "    def __init__(self):\n",
    "        self.items = []\n",
    "    \n",
    "    def isEmpty(self):\n",
    "        return self.items == []\n",
    "    \n",
    "    def enqueue(self, item):\n",
    "        self.items.insert(0,item)\n",
    "    \n",
    "    def dequeue(self):\n",
    "        return self.items.pop()\n",
    "    \n",
    "    def size(self):\n",
    "        return len(self.items)\n",
    "    \n",
    "if __name__ == '__main__':\n",
    "    q = Queue()\n",
    "    print(q.isEmpty())\n",
    "    print(q.size())\n",
    "    q.enqueue(1)\n",
    "    q.enqueue('a')\n",
    "    q.enqueue('dog')\n",
    "    print(q.isEmpty())\n",
    "    q.enqueue(8.4)\n",
    "    print(q.dequeue())\n",
    "    print(q.dequeue())\n",
    "    print(q.size())\n",
    "        "
   ]
  },
  {
   "cell_type": "code",
   "execution_count": 7,
   "metadata": {},
   "outputs": [
    {
     "name": "stdout",
     "output_type": "stream",
     "text": [
      "Kent\n"
     ]
    }
   ],
   "source": [
    "\"\"\"\n",
    "Josephu问题\n",
    "    他们围成一个圈，其中一人被指定为第一个人，顺时针报数到第七人，就将他杀死。\n",
    "    约瑟夫斯是一个成功的数学家，他立即想出了应该坐到哪才能成为最后一人。\n",
    "\"\"\"\n",
    "def JosephuQuestion(name_list, num):\n",
    "    \"\"\"\n",
    "        num_list 表示所有人\n",
    "        num 表示计数，第3个，第7个\n",
    "    \"\"\"\n",
    "    q = Queue()\n",
    "    for i in name_list:\n",
    "        q.enqueue(i)\n",
    "\n",
    "    while q.size() > 1:\n",
    "        for i in range(num):\n",
    "            q.enqueue(q.dequeue())\n",
    "        q.dequeue()\n",
    "    return q.dequeue()\n",
    "\n",
    "if __name__ == '__main__':\n",
    "    print(JosephuQuestion([\"Bill\",\"David\",\"Susan\",\"Jane\",\"Kent\",\"Brad\"],7))"
   ]
  },
  {
   "cell_type": "code",
   "execution_count": null,
   "metadata": {},
   "outputs": [],
   "source": []
  }
 ],
 "metadata": {
  "kernelspec": {
   "display_name": "Python 3",
   "language": "python",
   "name": "python3"
  },
  "language_info": {
   "codemirror_mode": {
    "name": "ipython",
    "version": 3
   },
   "file_extension": ".py",
   "mimetype": "text/x-python",
   "name": "python",
   "nbconvert_exporter": "python",
   "pygments_lexer": "ipython3",
   "version": "3.7.1"
  }
 },
 "nbformat": 4,
 "nbformat_minor": 2
}
