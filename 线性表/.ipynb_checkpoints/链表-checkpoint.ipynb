{
 "cells": [
  {
   "cell_type": "code",
   "execution_count": 1,
   "metadata": {},
   "outputs": [
    {
     "data": {
      "text/plain": [
       "'\\na = 10  # 把10的地址交给a\\nb = 10\\na,b=b,a # 交换a,b\\n\\npython中变量名保存的是对象的地址，只关心地址，不关心地址所指向的数据类型\\na = 10\\na = def func()\\na = class Node()\\n\\n'"
      ]
     },
     "execution_count": 1,
     "metadata": {},
     "output_type": "execute_result"
    }
   ],
   "source": [
    "'''\n",
    "    链表实际上就是把分离式顺序表中一个元素的数据和下一个元素的内存地址放在一块内存中。\n",
    "    顺序表和链表统称为线性表。\n",
    "'''\n",
    "\n",
    "# 变量的本质\n",
    "'''\n",
    "a = 10  # 把10的地址交给a\n",
    "b = 10\n",
    "a,b=b,a # 交换a,b\n",
    "\n",
    "python中变量名保存的是对象的地址，只关心地址，不关心地址所指向的数据类型\n",
    "a = 10\n",
    "a = def func()\n",
    "a = class Node()\n",
    "\n",
    "'''"
   ]
  },
  {
   "cell_type": "code",
   "execution_count": null,
   "metadata": {
    "collapsed": true
   },
   "outputs": [],
   "source": [
    "# 单向链表\n",
    "\n",
    "class Node(object):\n",
    "    # 定义节点\n",
    "    def __init__(self, elem):\n",
    "        self.elem = elem\n",
    "        self.next = None\n",
    "    \n",
    "\n",
    "class SingleLinkList(object):\n",
    "'''\n",
    "    实现单向链表\n",
    "'''\n",
    "    def __init__(self, node=None):\n",
    "        self._head = node\n",
    "        \n",
    "    # 判空\n",
    "    def is_empty(self):\n",
    "        return self._head == None\n",
    "    \n",
    "    # 长度\n",
    "    def length(self):\n",
    "        i = 0\n",
    "        Node node = self._head\n",
    "        while node:\n",
    "            i++\n",
    "            node = node.next\n",
    "        return i\n",
    "    \n",
    "    # 遍历\n",
    "    def travel(self):\n",
    "        pass\n",
    "    \n",
    "    # 头部添加\n",
    "    def add(self, item):\n",
    "        pass\n",
    "    \n",
    "    # 尾部添加\n",
    "    def append(self, item):\n",
    "        pass\n",
    "    \n",
    "    # 指定位置添加\n",
    "    def insert(self, pos, item):\n",
    "        pass\n",
    "    \n",
    "    # 删除指定元素\n",
    "    def remove(self, item):\n",
    "        pass\n",
    "    \n",
    "    # 搜索指定元素\n",
    "    def search(self, item):\n",
    "        pass\n",
    "    \n",
    "    \n",
    "    \n",
    " \n",
    "    \n",
    "    \n",
    "    \n",
    "    \n",
    "    \n",
    "    \n",
    "    \n",
    "    "
   ]
  }
 ],
 "metadata": {
  "kernelspec": {
   "display_name": "Python 3",
   "language": "python",
   "name": "python3"
  },
  "language_info": {
   "codemirror_mode": {
    "name": "ipython",
    "version": 3
   },
   "file_extension": ".py",
   "mimetype": "text/x-python",
   "name": "python",
   "nbconvert_exporter": "python",
   "pygments_lexer": "ipython3",
   "version": "3.6.3"
  }
 },
 "nbformat": 4,
 "nbformat_minor": 2
}
