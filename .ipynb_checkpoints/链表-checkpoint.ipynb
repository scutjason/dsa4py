{
 "cells": [
  {
   "cell_type": "code",
   "execution_count": null,
   "metadata": {
    "collapsed": true
   },
   "outputs": [],
   "source": [
    "'''\n",
    "    链表实际上就是把分离式顺序表中一个元素的数据和下一个元素的内存地址放在一块内存中。\n",
    "    顺序表和链表统称为线性表。\n",
    "'''\n",
    "\n",
    "# 变量的本质\n",
    "'''\n",
    "a = 10  # 把10的地址交给a\n",
    "b = 10\n",
    "a,b=b,a # 交换a,b\n",
    "\n",
    "python中变量名保存的是对象的地址，只关心地址，不关心地址所指向的数据类型\n",
    "a = 10\n",
    "a = def func()\n",
    "a = class Node()\n",
    "\n",
    "'''"
   ]
  }
 ],
 "metadata": {
  "kernelspec": {
   "display_name": "Python 3",
   "language": "python",
   "name": "python3"
  },
  "language_info": {
   "codemirror_mode": {
    "name": "ipython",
    "version": 3
   },
   "file_extension": ".py",
   "mimetype": "text/x-python",
   "name": "python",
   "nbconvert_exporter": "python",
   "pygments_lexer": "ipython3",
   "version": "3.6.3"
  }
 },
 "nbformat": 4,
 "nbformat_minor": 2
}
