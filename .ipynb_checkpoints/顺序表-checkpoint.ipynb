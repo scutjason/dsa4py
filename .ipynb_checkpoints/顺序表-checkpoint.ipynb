{
 "cells": [
  {
   "cell_type": "code",
   "execution_count": null,
   "metadata": {
    "collapsed": true
   },
   "outputs": [],
   "source": [
    "'''\n",
    "顺序表是一种ADT。\n",
    "\n",
    "    采用的是连续内存的方式存储，所以index是O(1),\n",
    "    只要知道起始内存地址，取某个值就直接用起始地址+每个元素占的内存单元*该值距离头的个数。\n",
    "    实际上list是用的分离式顺序表。\n",
    "'''\n",
    "\n",
    "# 顺序表的操作的时间复杂度\n",
    "\n",
    "'''\n",
    "增加元素\n",
    "    尾部插入：O(1)\n",
    "    中间插入：O(n)\n",
    "    \n",
    "删除元素\n",
    "    表尾删除：O(1)\n",
    "    中间删除：O(1)\n",
    "'''\n",
    "\n",
    "# list 和 tuple 底层都是顺序表实现的。\n",
    "# list 元素可变\n",
    "# tuple内的元素不可变\n",
    "\n",
    "# python官方的list采用分离式存储顺序表\n",
    "# 表的信息区和数据区分离，也就是数据不管怎么变，信息区(元素内存地址存放区)是不变的。这种方式也叫动态顺序表\n",
    "# 初始时分配8个元素存储区，如果满了就再分配一块4倍大的存储区，当表大于50000个元素时，采用1倍的方式，避免空闲内存过多。"
   ]
  }
 ],
 "metadata": {
  "kernelspec": {
   "display_name": "Python 3",
   "language": "python",
   "name": "python3"
  },
  "language_info": {
   "codemirror_mode": {
    "name": "ipython",
    "version": 3
   },
   "file_extension": ".py",
   "mimetype": "text/x-python",
   "name": "python",
   "nbconvert_exporter": "python",
   "pygments_lexer": "ipython3",
   "version": "3.6.3"
  }
 },
 "nbformat": 4,
 "nbformat_minor": 2
}
